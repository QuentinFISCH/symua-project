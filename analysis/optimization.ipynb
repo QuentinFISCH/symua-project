{
 "cells": [
  {
   "cell_type": "code",
   "execution_count": 1,
   "id": "6931fd83-ed3e-4e3c-b70b-eaae500407ce",
   "metadata": {
    "tags": []
   },
   "outputs": [],
   "source": [
    "import pynetlogo\n",
    "import pandas as pd\n",
    "import numpy as np\n",
    "\n",
    "import matplotlib.pyplot as plt\n",
    "import seaborn as sns\n",
    "from tqdm import tqdm\n",
    "import optuna\n",
    "sns.set_style(\"darkgrid\")"
   ]
  },
  {
   "cell_type": "code",
   "execution_count": 2,
   "id": "8361ae15-9f81-426c-a488-1f72b4e027e7",
   "metadata": {
    "tags": []
   },
   "outputs": [],
   "source": [
    "def initializer(netlogo_path, modelfile):\n",
    "    global netlogo\n",
    "\n",
    "    netlogo = pynetlogo.NetLogoLink(gui=False, thd=False, netlogo_home=netlogo_path)\n",
    "    netlogo.load_model(modelfile)"
   ]
  },
  {
   "cell_type": "code",
   "execution_count": 3,
   "id": "0f751451-fece-496c-9e8f-752f71fd3baa",
   "metadata": {
    "tags": []
   },
   "outputs": [],
   "source": [
    "NETLOGO_HOME = \"../dependencies/NetLogo 6.3.0/\"\n",
    "MODEL_PATH = \"bees.nlogo\""
   ]
  },
  {
   "cell_type": "code",
   "execution_count": 4,
   "id": "7aaa8cc9-3ab2-489e-8032-c5970329143e",
   "metadata": {
    "tags": []
   },
   "outputs": [],
   "source": [
    "initializer(NETLOGO_HOME, MODEL_PATH)"
   ]
  },
  {
   "cell_type": "code",
   "execution_count": 5,
   "id": "edf32869-b165-4657-9064-4df93e5ec0fb",
   "metadata": {
    "tags": []
   },
   "outputs": [],
   "source": [
    "def experiment(i):\n",
    "    netlogo.command(\"set num-bees-per-hive 50\")\n",
    "    netlogo.command(f\"set flower-density {i}\")\n",
    "    netlogo.command(\"set num-hives 5\")\n",
    "    netlogo.command(\"set scout-radius 20\")\n",
    "\n",
    "    netlogo.command(\"setup\")\n",
    "    counts = netlogo.repeat_report(\n",
    "        [\"plot-total-pollen\",\"get-flower-pollen\"], 5000\n",
    "    )\n",
    "    \n",
    "    return counts[\"plot-total-pollen\"].mean(), counts[\"get-flower-pollen\"].mean()"
   ]
  },
  {
   "cell_type": "code",
   "execution_count": 7,
   "id": "03345e54-682c-46e8-9f7c-c92d7ac35efd",
   "metadata": {
    "tags": []
   },
   "outputs": [
    {
     "name": "stderr",
     "output_type": "stream",
     "text": [
      "[I 2023-06-04 15:56:23,327] A new study created in memory with name: no-name-ac9efdc6-b7e4-40c8-9809-0ab5266a47e0\n",
      "/tmp/ipykernel_27798/3093777797.py:7: ExperimentalWarning: set_metric_names is experimental (supported from v3.2.0). The interface can change in the future.\n",
      "  study.set_metric_names([\"pollen\", \"flower\"])\n"
     ]
    },
    {
     "data": {
      "application/vnd.jupyter.widget-view+json": {
       "model_id": "f4db09e8691549478118a632d5e33cb6",
       "version_major": 2,
       "version_minor": 0
      },
      "text/plain": [
       "  0%|          | 0/50 [00:00<?, ?it/s]"
      ]
     },
     "metadata": {},
     "output_type": "display_data"
    },
    {
     "name": "stdout",
     "output_type": "stream",
     "text": [
      "[I 2023-06-04 15:56:32,477] Trial 0 finished with values: {'pollen': 954.5822835432914, 'flower': 518332.1731653669} and parameters: {'flower-pollen-density': 0.35000000000000003}. \n",
      "[I 2023-06-04 15:56:42,913] Trial 1 finished with values: {'pollen': 904.2089582083584, 'flower': 425981.0023995201} and parameters: {'flower-pollen-density': 0.30000000000000004}. \n",
      "[I 2023-06-04 15:56:56,331] Trial 2 finished with values: {'pollen': 1013.5994801039792, 'flower': 958563.6278744251} and parameters: {'flower-pollen-density': 0.65}. \n",
      "[I 2023-06-04 15:57:08,674] Trial 3 finished with values: {'pollen': 999.9432113577285, 'flower': 669007.9096180764} and parameters: {'flower-pollen-density': 0.45}. \n",
      "[I 2023-06-04 15:57:21,520] Trial 4 finished with values: {'pollen': 1000.0469906018797, 'flower': 578622.2179564087} and parameters: {'flower-pollen-density': 0.4}. \n",
      "[I 2023-06-04 15:57:35,109] Trial 5 finished with values: {'pollen': 1019.3847230553889, 'flower': 817089.1425714857} and parameters: {'flower-pollen-density': 0.55}. \n",
      "[I 2023-06-04 15:57:47,265] Trial 6 finished with values: {'pollen': 992.2795440911817, 'flower': 593013.1287742452} and parameters: {'flower-pollen-density': 0.4}. \n",
      "[I 2023-06-04 15:58:00,432] Trial 7 finished with values: {'pollen': 990.6448710257948, 'flower': 817518.5678864227} and parameters: {'flower-pollen-density': 0.55}. \n",
      "[I 2023-06-04 15:58:15,832] Trial 8 finished with values: {'pollen': 1068.3237352529495, 'flower': 1158832.1453709258} and parameters: {'flower-pollen-density': 0.75}. \n",
      "[I 2023-06-04 15:58:26,805] Trial 9 finished with values: {'pollen': 961.6638672265547, 'flower': 349654.1927614477} and parameters: {'flower-pollen-density': 0.25}. \n",
      "[I 2023-06-04 15:58:43,691] Trial 10 finished with values: {'pollen': 1003.9016196760648, 'flower': 1523047.176764647} and parameters: {'flower-pollen-density': 1.0}. \n",
      "[I 2023-06-04 15:58:55,796] Trial 11 finished with values: {'pollen': 997.4831033793241, 'flower': 517828.5148970206} and parameters: {'flower-pollen-density': 0.35000000000000003}. \n",
      "[I 2023-06-04 15:59:11,234] Trial 12 finished with values: {'pollen': 1024.3691261747651, 'flower': 1191878.1149770047} and parameters: {'flower-pollen-density': 0.8}. \n",
      "[I 2023-06-04 15:59:20,662] Trial 13 finished with values: {'pollen': 457.625674865027, 'flower': 35311.8950209958} and parameters: {'flower-pollen-density': 0.05}. \n",
      "[I 2023-06-04 15:59:31,974] Trial 14 finished with values: {'pollen': 930.5640871825635, 'flower': 339995.1569686063} and parameters: {'flower-pollen-density': 0.25}. \n",
      "[I 2023-06-04 15:59:46,811] Trial 15 finished with values: {'pollen': 1071.486102779444, 'flower': 1135450.5192961409} and parameters: {'flower-pollen-density': 0.75}. \n",
      "[I 2023-06-04 16:00:01,311] Trial 16 finished with values: {'pollen': 1108.7886422715458, 'flower': 898335.300539892} and parameters: {'flower-pollen-density': 0.6000000000000001}. \n",
      "[I 2023-06-04 16:00:16,317] Trial 17 finished with values: {'pollen': 1124.866626674665, 'flower': 949669.9324135173} and parameters: {'flower-pollen-density': 0.65}. \n",
      "[I 2023-06-04 16:00:25,093] Trial 18 finished with values: {'pollen': 414.6942611477704, 'flower': 42997.27854429114} and parameters: {'flower-pollen-density': 0.05}. \n",
      "[I 2023-06-04 16:00:39,505] Trial 19 finished with values: {'pollen': 1104.5378924215156, 'flower': 822177.3205358929} and parameters: {'flower-pollen-density': 0.55}. \n",
      "[I 2023-06-04 16:00:54,277] Trial 20 finished with values: {'pollen': 984.5470905818836, 'flower': 1051458.475504899} and parameters: {'flower-pollen-density': 0.7000000000000001}. \n",
      "[I 2023-06-04 16:01:04,141] Trial 21 finished with values: {'pollen': 776.6768646270746, 'flower': 184164.14137172565} and parameters: {'flower-pollen-density': 0.15000000000000002}. \n",
      "[I 2023-06-04 16:01:14,997] Trial 22 finished with values: {'pollen': 874.2955408918216, 'flower': 338600.5594881024} and parameters: {'flower-pollen-density': 0.25}. \n",
      "[I 2023-06-04 16:01:33,134] Trial 23 finished with values: {'pollen': 0.0, 'flower': 0.0} and parameters: {'flower-pollen-density': 0.0}. \n",
      "[I 2023-06-04 16:01:45,912] Trial 24 finished with values: {'pollen': 1038.3419316136772, 'flower': 515582.9222155569} and parameters: {'flower-pollen-density': 0.35000000000000003}. \n",
      "[I 2023-06-04 16:01:57,167] Trial 25 finished with values: {'pollen': 1005.8332333533293, 'flower': 359740.4171165767} and parameters: {'flower-pollen-density': 0.25}. \n",
      "[I 2023-06-04 16:02:10,073] Trial 26 finished with values: {'pollen': 968.0897820435913, 'flower': 837203.6926614677} and parameters: {'flower-pollen-density': 0.55}. \n",
      "[I 2023-06-04 16:02:23,141] Trial 27 finished with values: {'pollen': 1005.7160567886423, 'flower': 585236.7148570286} and parameters: {'flower-pollen-density': 0.4}. \n",
      "[I 2023-06-04 16:02:34,549] Trial 28 finished with values: {'pollen': 957.4775044991002, 'flower': 417702.01579684066} and parameters: {'flower-pollen-density': 0.30000000000000004}. \n",
      "[I 2023-06-04 16:02:51,199] Trial 29 finished with values: {'pollen': 1151.2037592481504, 'flower': 1288234.2851429714} and parameters: {'flower-pollen-density': 0.8500000000000001}. \n",
      "[I 2023-06-04 16:02:59,721] Trial 30 finished with values: {'pollen': 440.05098980203957, 'flower': 34363.80363927215} and parameters: {'flower-pollen-density': 0.05}. \n",
      "[I 2023-06-04 16:03:13,984] Trial 31 finished with values: {'pollen': 989.2847430513897, 'flower': 977629.5672865427} and parameters: {'flower-pollen-density': 0.65}. \n",
      "[I 2023-06-04 16:03:24,186] Trial 32 finished with values: {'pollen': 814.4135172965407, 'flower': 185783.76064787043} and parameters: {'flower-pollen-density': 0.15000000000000002}. \n",
      "[I 2023-06-04 16:03:37,989] Trial 33 finished with values: {'pollen': 1102.9114177164568, 'flower': 643084.7284543092} and parameters: {'flower-pollen-density': 0.45}. \n",
      "[I 2023-06-04 16:03:55,355] Trial 34 finished with values: {'pollen': 1001.7152569486103, 'flower': 1434156.5830833833} and parameters: {'flower-pollen-density': 0.9500000000000001}. \n",
      "[I 2023-06-04 16:04:08,265] Trial 35 finished with values: {'pollen': 1046.3153369326135, 'flower': 603727.8284343132} and parameters: {'flower-pollen-density': 0.4}. \n",
      "[I 2023-06-04 16:04:25,376] Trial 36 finished with values: {'pollen': 1108.5416916616678, 'flower': 1392912.200959808} and parameters: {'flower-pollen-density': 0.9}. \n",
      "[I 2023-06-04 16:04:41,841] Trial 37 finished with values: {'pollen': 1077.5582883423315, 'flower': 1294614.5172965408} and parameters: {'flower-pollen-density': 0.8500000000000001}. \n",
      "[I 2023-06-04 16:04:58,681] Trial 38 finished with values: {'pollen': 1084.0163967206558, 'flower': 1363968.070385923} and parameters: {'flower-pollen-density': 0.9}. \n",
      "[I 2023-06-04 16:05:12,401] Trial 39 finished with values: {'pollen': 1054.377924415117, 'flower': 824279.651269746} and parameters: {'flower-pollen-density': 0.55}. \n",
      "[I 2023-06-04 16:05:24,543] Trial 40 finished with values: {'pollen': 1028.2231553689262, 'flower': 595026.4701059788} and parameters: {'flower-pollen-density': 0.4}. \n",
      "[I 2023-06-04 16:05:40,022] Trial 41 finished with values: {'pollen': 1105.8652269546092, 'flower': 1045003.9706058789} and parameters: {'flower-pollen-density': 0.7000000000000001}. \n",
      "[I 2023-06-04 16:05:52,885] Trial 42 finished with values: {'pollen': 1023.7732453509299, 'flower': 766919.3433313337} and parameters: {'flower-pollen-density': 0.5}. \n",
      "[I 2023-06-04 16:06:09,721] Trial 43 finished with values: {'pollen': 1077.6940611877624, 'flower': 1392910.077384523} and parameters: {'flower-pollen-density': 0.9}. \n",
      "[I 2023-06-04 16:06:23,024] Trial 44 finished with values: {'pollen': 977.1559688062388, 'flower': 789617.174365127} and parameters: {'flower-pollen-density': 0.55}. \n",
      "[I 2023-06-04 16:06:32,943] Trial 45 finished with values: {'pollen': 769.6980603879224, 'flower': 196101.27834433113} and parameters: {'flower-pollen-density': 0.15000000000000002}. \n",
      "[I 2023-06-04 16:06:47,604] Trial 46 finished with values: {'pollen': 1010.5198960207958, 'flower': 1044032.2633473305} and parameters: {'flower-pollen-density': 0.7000000000000001}. \n",
      "[I 2023-06-04 16:07:01,029] Trial 47 finished with values: {'pollen': 1019.5288942211557, 'flower': 837316.7652469506} and parameters: {'flower-pollen-density': 0.55}. \n",
      "[I 2023-06-04 16:07:12,226] Trial 48 finished with values: {'pollen': 965.25274945011, 'flower': 418801.97360527894} and parameters: {'flower-pollen-density': 0.30000000000000004}. \n",
      "[I 2023-06-04 16:07:23,882] Trial 49 finished with values: {'pollen': 1003.3629274145171, 'flower': 490337.43351329735} and parameters: {'flower-pollen-density': 0.35000000000000003}. \n"
     ]
    }
   ],
   "source": [
    "def objective(trial):\n",
    "    x = trial.suggest_float('flower-pollen-density', 0, 1, step=0.05)\n",
    "    x = float(f\"{x:.2f}\")\n",
    "    return experiment(x)\n",
    "\n",
    "study = optuna.create_study(directions=[\"maximize\", \"minimize\"])\n",
    "study.set_metric_names([\"pollen\", \"flower\"])\n",
    "study.optimize(objective, n_jobs=1, n_trials=50, show_progress_bar=True)"
   ]
  },
  {
   "cell_type": "code",
   "execution_count": 41,
   "id": "efe39bcc-75da-4822-b0f3-2101aa4bd259",
   "metadata": {
    "tags": []
   },
   "outputs": [],
   "source": [
    "# for i in tqdm(np.arange(0, 1, 0.05, dtype=np.float64)):\n",
    "#     result = experiment(i)\n",
    "#     sns.lineplot(data=result, x=result.index, y=\"get-flower-pollen\")"
   ]
  },
  {
   "cell_type": "code",
   "execution_count": 8,
   "id": "cc259b9f-1458-4e06-b521-32598b7e51a6",
   "metadata": {
    "tags": []
   },
   "outputs": [
    {
     "data": {
      "text/plain": [
       "[FrozenTrial(number=9, state=1, values=[961.6638672265547, 349654.1927614477], datetime_start=datetime.datetime(2023, 6, 4, 15, 58, 15, 833864), datetime_complete=datetime.datetime(2023, 6, 4, 15, 58, 26, 805823), params={'flower-pollen-density': 0.25}, user_attrs={}, system_attrs={'nsga2:generation': 0}, intermediate_values={}, distributions={'flower-pollen-density': FloatDistribution(high=1.0, log=False, low=0.0, step=0.05)}, trial_id=9, value=None),\n",
       " FrozenTrial(number=13, state=1, values=[457.625674865027, 35311.8950209958], datetime_start=datetime.datetime(2023, 6, 4, 15, 59, 11, 235301), datetime_complete=datetime.datetime(2023, 6, 4, 15, 59, 20, 662672), params={'flower-pollen-density': 0.05}, user_attrs={}, system_attrs={'nsga2:generation': 0}, intermediate_values={}, distributions={'flower-pollen-density': FloatDistribution(high=1.0, log=False, low=0.0, step=0.05)}, trial_id=13, value=None),\n",
       " FrozenTrial(number=14, state=1, values=[930.5640871825635, 339995.1569686063], datetime_start=datetime.datetime(2023, 6, 4, 15, 59, 20, 664409), datetime_complete=datetime.datetime(2023, 6, 4, 15, 59, 31, 974415), params={'flower-pollen-density': 0.25}, user_attrs={}, system_attrs={'nsga2:generation': 0}, intermediate_values={}, distributions={'flower-pollen-density': FloatDistribution(high=1.0, log=False, low=0.0, step=0.05)}, trial_id=14, value=None),\n",
       " FrozenTrial(number=16, state=1, values=[1108.7886422715458, 898335.300539892], datetime_start=datetime.datetime(2023, 6, 4, 15, 59, 46, 812635), datetime_complete=datetime.datetime(2023, 6, 4, 16, 0, 1, 311557), params={'flower-pollen-density': 0.6000000000000001}, user_attrs={}, system_attrs={'nsga2:generation': 0}, intermediate_values={}, distributions={'flower-pollen-density': FloatDistribution(high=1.0, log=False, low=0.0, step=0.05)}, trial_id=16, value=None),\n",
       " FrozenTrial(number=17, state=1, values=[1124.866626674665, 949669.9324135173], datetime_start=datetime.datetime(2023, 6, 4, 16, 0, 1, 312578), datetime_complete=datetime.datetime(2023, 6, 4, 16, 0, 16, 317311), params={'flower-pollen-density': 0.65}, user_attrs={}, system_attrs={'nsga2:generation': 0}, intermediate_values={}, distributions={'flower-pollen-density': FloatDistribution(high=1.0, log=False, low=0.0, step=0.05)}, trial_id=17, value=None),\n",
       " FrozenTrial(number=19, state=1, values=[1104.5378924215156, 822177.3205358929], datetime_start=datetime.datetime(2023, 6, 4, 16, 0, 25, 94547), datetime_complete=datetime.datetime(2023, 6, 4, 16, 0, 39, 505055), params={'flower-pollen-density': 0.55}, user_attrs={}, system_attrs={'nsga2:generation': 0}, intermediate_values={}, distributions={'flower-pollen-density': FloatDistribution(high=1.0, log=False, low=0.0, step=0.05)}, trial_id=19, value=None),\n",
       " FrozenTrial(number=21, state=1, values=[776.6768646270746, 184164.14137172565], datetime_start=datetime.datetime(2023, 6, 4, 16, 0, 54, 278805), datetime_complete=datetime.datetime(2023, 6, 4, 16, 1, 4, 141539), params={'flower-pollen-density': 0.15000000000000002}, user_attrs={}, system_attrs={'nsga2:generation': 0}, intermediate_values={}, distributions={'flower-pollen-density': FloatDistribution(high=1.0, log=False, low=0.0, step=0.05)}, trial_id=21, value=None),\n",
       " FrozenTrial(number=22, state=1, values=[874.2955408918216, 338600.5594881024], datetime_start=datetime.datetime(2023, 6, 4, 16, 1, 4, 142417), datetime_complete=datetime.datetime(2023, 6, 4, 16, 1, 14, 997638), params={'flower-pollen-density': 0.25}, user_attrs={}, system_attrs={'nsga2:generation': 0}, intermediate_values={}, distributions={'flower-pollen-density': FloatDistribution(high=1.0, log=False, low=0.0, step=0.05)}, trial_id=22, value=None),\n",
       " FrozenTrial(number=23, state=1, values=[0.0, 0.0], datetime_start=datetime.datetime(2023, 6, 4, 16, 1, 14, 998543), datetime_complete=datetime.datetime(2023, 6, 4, 16, 1, 33, 134107), params={'flower-pollen-density': 0.0}, user_attrs={}, system_attrs={'nsga2:generation': 0}, intermediate_values={}, distributions={'flower-pollen-density': FloatDistribution(high=1.0, log=False, low=0.0, step=0.05)}, trial_id=23, value=None),\n",
       " FrozenTrial(number=24, state=1, values=[1038.3419316136772, 515582.9222155569], datetime_start=datetime.datetime(2023, 6, 4, 16, 1, 33, 135006), datetime_complete=datetime.datetime(2023, 6, 4, 16, 1, 45, 912706), params={'flower-pollen-density': 0.35000000000000003}, user_attrs={}, system_attrs={'nsga2:generation': 0}, intermediate_values={}, distributions={'flower-pollen-density': FloatDistribution(high=1.0, log=False, low=0.0, step=0.05)}, trial_id=24, value=None),\n",
       " FrozenTrial(number=25, state=1, values=[1005.8332333533293, 359740.4171165767], datetime_start=datetime.datetime(2023, 6, 4, 16, 1, 45, 913745), datetime_complete=datetime.datetime(2023, 6, 4, 16, 1, 57, 167421), params={'flower-pollen-density': 0.25}, user_attrs={}, system_attrs={'nsga2:generation': 0}, intermediate_values={}, distributions={'flower-pollen-density': FloatDistribution(high=1.0, log=False, low=0.0, step=0.05)}, trial_id=25, value=None),\n",
       " FrozenTrial(number=29, state=1, values=[1151.2037592481504, 1288234.2851429714], datetime_start=datetime.datetime(2023, 6, 4, 16, 2, 34, 550301), datetime_complete=datetime.datetime(2023, 6, 4, 16, 2, 51, 199078), params={'flower-pollen-density': 0.8500000000000001}, user_attrs={}, system_attrs={'nsga2:generation': 0}, intermediate_values={}, distributions={'flower-pollen-density': FloatDistribution(high=1.0, log=False, low=0.0, step=0.05)}, trial_id=29, value=None),\n",
       " FrozenTrial(number=30, state=1, values=[440.05098980203957, 34363.80363927215], datetime_start=datetime.datetime(2023, 6, 4, 16, 2, 51, 200166), datetime_complete=datetime.datetime(2023, 6, 4, 16, 2, 59, 721659), params={'flower-pollen-density': 0.05}, user_attrs={}, system_attrs={'nsga2:generation': 0}, intermediate_values={}, distributions={'flower-pollen-density': FloatDistribution(high=1.0, log=False, low=0.0, step=0.05)}, trial_id=30, value=None),\n",
       " FrozenTrial(number=32, state=1, values=[814.4135172965407, 185783.76064787043], datetime_start=datetime.datetime(2023, 6, 4, 16, 3, 13, 985850), datetime_complete=datetime.datetime(2023, 6, 4, 16, 3, 24, 186165), params={'flower-pollen-density': 0.15000000000000002}, user_attrs={}, system_attrs={'nsga2:generation': 0}, intermediate_values={}, distributions={'flower-pollen-density': FloatDistribution(high=1.0, log=False, low=0.0, step=0.05)}, trial_id=32, value=None),\n",
       " FrozenTrial(number=33, state=1, values=[1102.9114177164568, 643084.7284543092], datetime_start=datetime.datetime(2023, 6, 4, 16, 3, 24, 187085), datetime_complete=datetime.datetime(2023, 6, 4, 16, 3, 37, 989513), params={'flower-pollen-density': 0.45}, user_attrs={}, system_attrs={'nsga2:generation': 0}, intermediate_values={}, distributions={'flower-pollen-density': FloatDistribution(high=1.0, log=False, low=0.0, step=0.05)}, trial_id=33, value=None),\n",
       " FrozenTrial(number=35, state=1, values=[1046.3153369326135, 603727.8284343132], datetime_start=datetime.datetime(2023, 6, 4, 16, 3, 55, 356975), datetime_complete=datetime.datetime(2023, 6, 4, 16, 4, 8, 265269), params={'flower-pollen-density': 0.4}, user_attrs={}, system_attrs={'nsga2:generation': 0}, intermediate_values={}, distributions={'flower-pollen-density': FloatDistribution(high=1.0, log=False, low=0.0, step=0.05)}, trial_id=35, value=None)]"
      ]
     },
     "execution_count": 8,
     "metadata": {},
     "output_type": "execute_result"
    }
   ],
   "source": [
    "study.best_trials"
   ]
  },
  {
   "cell_type": "code",
   "execution_count": 22,
   "id": "a6ec4dd9-6fc4-41cb-a485-1df5abd3598d",
   "metadata": {
    "tags": []
   },
   "outputs": [
    {
     "data": {
      "application/vnd.plotly.v1+json": {
       "config": {
        "plotlyServerURL": "https://plot.ly"
       },
       "data": [
        {
         "hovertemplate": "%{text}<extra>Trial</extra>",
         "marker": {
          "color": [
           0,
           1,
           2,
           3,
           4,
           5,
           6,
           7,
           8,
           10,
           11,
           12,
           15,
           18,
           20,
           26,
           27,
           28,
           31,
           34,
           36,
           37,
           38,
           39,
           40,
           41,
           42,
           43,
           44,
           45,
           46,
           47,
           48,
           49
          ],
          "colorbar": {
           "title": {
            "text": "Trial"
           }
          },
          "colorscale": [
           [
            0,
            "rgb(247,251,255)"
           ],
           [
            0.125,
            "rgb(222,235,247)"
           ],
           [
            0.25,
            "rgb(198,219,239)"
           ],
           [
            0.375,
            "rgb(158,202,225)"
           ],
           [
            0.5,
            "rgb(107,174,214)"
           ],
           [
            0.625,
            "rgb(66,146,198)"
           ],
           [
            0.75,
            "rgb(33,113,181)"
           ],
           [
            0.875,
            "rgb(8,81,156)"
           ],
           [
            1,
            "rgb(8,48,107)"
           ]
          ],
          "line": {
           "color": "Grey",
           "width": 0.5
          }
         },
         "mode": "markers",
         "showlegend": false,
         "text": [
          "{<br>  \"number\": 0,<br>  \"values\": [<br>    954.5822835432914,<br>    518332.1731653669<br>  ],<br>  \"params\": {<br>    \"flower-pollen-density\": 0.35000000000000003<br>  }<br>}",
          "{<br>  \"number\": 1,<br>  \"values\": [<br>    904.2089582083584,<br>    425981.0023995201<br>  ],<br>  \"params\": {<br>    \"flower-pollen-density\": 0.30000000000000004<br>  }<br>}",
          "{<br>  \"number\": 2,<br>  \"values\": [<br>    1013.5994801039792,<br>    958563.6278744251<br>  ],<br>  \"params\": {<br>    \"flower-pollen-density\": 0.65<br>  }<br>}",
          "{<br>  \"number\": 3,<br>  \"values\": [<br>    999.9432113577285,<br>    669007.9096180764<br>  ],<br>  \"params\": {<br>    \"flower-pollen-density\": 0.45<br>  }<br>}",
          "{<br>  \"number\": 4,<br>  \"values\": [<br>    1000.0469906018797,<br>    578622.2179564087<br>  ],<br>  \"params\": {<br>    \"flower-pollen-density\": 0.4<br>  }<br>}",
          "{<br>  \"number\": 5,<br>  \"values\": [<br>    1019.3847230553889,<br>    817089.1425714857<br>  ],<br>  \"params\": {<br>    \"flower-pollen-density\": 0.55<br>  }<br>}",
          "{<br>  \"number\": 6,<br>  \"values\": [<br>    992.2795440911817,<br>    593013.1287742452<br>  ],<br>  \"params\": {<br>    \"flower-pollen-density\": 0.4<br>  }<br>}",
          "{<br>  \"number\": 7,<br>  \"values\": [<br>    990.6448710257948,<br>    817518.5678864227<br>  ],<br>  \"params\": {<br>    \"flower-pollen-density\": 0.55<br>  }<br>}",
          "{<br>  \"number\": 8,<br>  \"values\": [<br>    1068.3237352529495,<br>    1158832.1453709258<br>  ],<br>  \"params\": {<br>    \"flower-pollen-density\": 0.75<br>  }<br>}",
          "{<br>  \"number\": 10,<br>  \"values\": [<br>    1003.9016196760648,<br>    1523047.176764647<br>  ],<br>  \"params\": {<br>    \"flower-pollen-density\": 1.0<br>  }<br>}",
          "{<br>  \"number\": 11,<br>  \"values\": [<br>    997.4831033793241,<br>    517828.5148970206<br>  ],<br>  \"params\": {<br>    \"flower-pollen-density\": 0.35000000000000003<br>  }<br>}",
          "{<br>  \"number\": 12,<br>  \"values\": [<br>    1024.3691261747651,<br>    1191878.1149770047<br>  ],<br>  \"params\": {<br>    \"flower-pollen-density\": 0.8<br>  }<br>}",
          "{<br>  \"number\": 15,<br>  \"values\": [<br>    1071.486102779444,<br>    1135450.5192961409<br>  ],<br>  \"params\": {<br>    \"flower-pollen-density\": 0.75<br>  }<br>}",
          "{<br>  \"number\": 18,<br>  \"values\": [<br>    414.6942611477704,<br>    42997.27854429114<br>  ],<br>  \"params\": {<br>    \"flower-pollen-density\": 0.05<br>  }<br>}",
          "{<br>  \"number\": 20,<br>  \"values\": [<br>    984.5470905818836,<br>    1051458.475504899<br>  ],<br>  \"params\": {<br>    \"flower-pollen-density\": 0.7000000000000001<br>  }<br>}",
          "{<br>  \"number\": 26,<br>  \"values\": [<br>    968.0897820435913,<br>    837203.6926614677<br>  ],<br>  \"params\": {<br>    \"flower-pollen-density\": 0.55<br>  }<br>}",
          "{<br>  \"number\": 27,<br>  \"values\": [<br>    1005.7160567886423,<br>    585236.7148570286<br>  ],<br>  \"params\": {<br>    \"flower-pollen-density\": 0.4<br>  }<br>}",
          "{<br>  \"number\": 28,<br>  \"values\": [<br>    957.4775044991002,<br>    417702.01579684066<br>  ],<br>  \"params\": {<br>    \"flower-pollen-density\": 0.30000000000000004<br>  }<br>}",
          "{<br>  \"number\": 31,<br>  \"values\": [<br>    989.2847430513897,<br>    977629.5672865427<br>  ],<br>  \"params\": {<br>    \"flower-pollen-density\": 0.65<br>  }<br>}",
          "{<br>  \"number\": 34,<br>  \"values\": [<br>    1001.7152569486103,<br>    1434156.5830833833<br>  ],<br>  \"params\": {<br>    \"flower-pollen-density\": 0.9500000000000001<br>  }<br>}",
          "{<br>  \"number\": 36,<br>  \"values\": [<br>    1108.5416916616678,<br>    1392912.200959808<br>  ],<br>  \"params\": {<br>    \"flower-pollen-density\": 0.9<br>  }<br>}",
          "{<br>  \"number\": 37,<br>  \"values\": [<br>    1077.5582883423315,<br>    1294614.5172965408<br>  ],<br>  \"params\": {<br>    \"flower-pollen-density\": 0.8500000000000001<br>  }<br>}",
          "{<br>  \"number\": 38,<br>  \"values\": [<br>    1084.0163967206558,<br>    1363968.070385923<br>  ],<br>  \"params\": {<br>    \"flower-pollen-density\": 0.9<br>  }<br>}",
          "{<br>  \"number\": 39,<br>  \"values\": [<br>    1054.377924415117,<br>    824279.651269746<br>  ],<br>  \"params\": {<br>    \"flower-pollen-density\": 0.55<br>  }<br>}",
          "{<br>  \"number\": 40,<br>  \"values\": [<br>    1028.2231553689262,<br>    595026.4701059788<br>  ],<br>  \"params\": {<br>    \"flower-pollen-density\": 0.4<br>  }<br>}",
          "{<br>  \"number\": 41,<br>  \"values\": [<br>    1105.8652269546092,<br>    1045003.9706058789<br>  ],<br>  \"params\": {<br>    \"flower-pollen-density\": 0.7000000000000001<br>  }<br>}",
          "{<br>  \"number\": 42,<br>  \"values\": [<br>    1023.7732453509299,<br>    766919.3433313337<br>  ],<br>  \"params\": {<br>    \"flower-pollen-density\": 0.5<br>  }<br>}",
          "{<br>  \"number\": 43,<br>  \"values\": [<br>    1077.6940611877624,<br>    1392910.077384523<br>  ],<br>  \"params\": {<br>    \"flower-pollen-density\": 0.9<br>  }<br>}",
          "{<br>  \"number\": 44,<br>  \"values\": [<br>    977.1559688062388,<br>    789617.174365127<br>  ],<br>  \"params\": {<br>    \"flower-pollen-density\": 0.55<br>  }<br>}",
          "{<br>  \"number\": 45,<br>  \"values\": [<br>    769.6980603879224,<br>    196101.27834433113<br>  ],<br>  \"params\": {<br>    \"flower-pollen-density\": 0.15000000000000002<br>  }<br>}",
          "{<br>  \"number\": 46,<br>  \"values\": [<br>    1010.5198960207958,<br>    1044032.2633473305<br>  ],<br>  \"params\": {<br>    \"flower-pollen-density\": 0.7000000000000001<br>  }<br>}",
          "{<br>  \"number\": 47,<br>  \"values\": [<br>    1019.5288942211557,<br>    837316.7652469506<br>  ],<br>  \"params\": {<br>    \"flower-pollen-density\": 0.55<br>  }<br>}",
          "{<br>  \"number\": 48,<br>  \"values\": [<br>    965.25274945011,<br>    418801.97360527894<br>  ],<br>  \"params\": {<br>    \"flower-pollen-density\": 0.30000000000000004<br>  }<br>}",
          "{<br>  \"number\": 49,<br>  \"values\": [<br>    1003.3629274145171,<br>    490337.43351329735<br>  ],<br>  \"params\": {<br>    \"flower-pollen-density\": 0.35000000000000003<br>  }<br>}"
         ],
         "type": "scatter",
         "x": [
          954.5822835432914,
          904.2089582083584,
          1013.5994801039792,
          999.9432113577285,
          1000.0469906018797,
          1019.3847230553889,
          992.2795440911817,
          990.6448710257948,
          1068.3237352529495,
          1003.9016196760648,
          997.4831033793241,
          1024.3691261747651,
          1071.486102779444,
          414.6942611477704,
          984.5470905818836,
          968.0897820435913,
          1005.7160567886423,
          957.4775044991002,
          989.2847430513897,
          1001.7152569486103,
          1108.5416916616678,
          1077.5582883423315,
          1084.0163967206558,
          1054.377924415117,
          1028.2231553689262,
          1105.8652269546092,
          1023.7732453509299,
          1077.6940611877624,
          977.1559688062388,
          769.6980603879224,
          1010.5198960207958,
          1019.5288942211557,
          965.25274945011,
          1003.3629274145171
         ],
         "y": [
          518332.1731653669,
          425981.0023995201,
          958563.6278744251,
          669007.9096180764,
          578622.2179564087,
          817089.1425714857,
          593013.1287742452,
          817518.5678864227,
          1158832.1453709258,
          1523047.176764647,
          517828.5148970206,
          1191878.1149770047,
          1135450.5192961409,
          42997.27854429114,
          1051458.475504899,
          837203.6926614677,
          585236.7148570286,
          417702.01579684066,
          977629.5672865427,
          1434156.5830833833,
          1392912.200959808,
          1294614.5172965408,
          1363968.070385923,
          824279.651269746,
          595026.4701059788,
          1045003.9706058789,
          766919.3433313337,
          1392910.077384523,
          789617.174365127,
          196101.27834433113,
          1044032.2633473305,
          837316.7652469506,
          418801.97360527894,
          490337.43351329735
         ]
        },
        {
         "hovertemplate": "%{text}<extra>Best Trial</extra>",
         "marker": {
          "color": [
           9,
           13,
           14,
           16,
           17,
           19,
           21,
           22,
           23,
           24,
           25,
           29,
           30,
           32,
           33,
           35
          ],
          "colorbar": {
           "title": {
            "text": "Best Trial"
           },
           "x": 1.1,
           "xpad": 40,
           "y": 0.5
          },
          "colorscale": [
           [
            0,
            "rgb(255,245,240)"
           ],
           [
            0.125,
            "rgb(254,224,210)"
           ],
           [
            0.25,
            "rgb(252,187,161)"
           ],
           [
            0.375,
            "rgb(252,146,114)"
           ],
           [
            0.5,
            "rgb(251,106,74)"
           ],
           [
            0.625,
            "rgb(239,59,44)"
           ],
           [
            0.75,
            "rgb(203,24,29)"
           ],
           [
            0.875,
            "rgb(165,15,21)"
           ],
           [
            1,
            "rgb(103,0,13)"
           ]
          ],
          "line": {
           "color": "Grey",
           "width": 0.5
          }
         },
         "mode": "markers",
         "showlegend": false,
         "text": [
          "{<br>  \"number\": 9,<br>  \"values\": [<br>    961.6638672265547,<br>    349654.1927614477<br>  ],<br>  \"params\": {<br>    \"flower-pollen-density\": 0.25<br>  }<br>}",
          "{<br>  \"number\": 13,<br>  \"values\": [<br>    457.625674865027,<br>    35311.8950209958<br>  ],<br>  \"params\": {<br>    \"flower-pollen-density\": 0.05<br>  }<br>}",
          "{<br>  \"number\": 14,<br>  \"values\": [<br>    930.5640871825635,<br>    339995.1569686063<br>  ],<br>  \"params\": {<br>    \"flower-pollen-density\": 0.25<br>  }<br>}",
          "{<br>  \"number\": 16,<br>  \"values\": [<br>    1108.7886422715458,<br>    898335.300539892<br>  ],<br>  \"params\": {<br>    \"flower-pollen-density\": 0.6000000000000001<br>  }<br>}",
          "{<br>  \"number\": 17,<br>  \"values\": [<br>    1124.866626674665,<br>    949669.9324135173<br>  ],<br>  \"params\": {<br>    \"flower-pollen-density\": 0.65<br>  }<br>}",
          "{<br>  \"number\": 19,<br>  \"values\": [<br>    1104.5378924215156,<br>    822177.3205358929<br>  ],<br>  \"params\": {<br>    \"flower-pollen-density\": 0.55<br>  }<br>}",
          "{<br>  \"number\": 21,<br>  \"values\": [<br>    776.6768646270746,<br>    184164.14137172565<br>  ],<br>  \"params\": {<br>    \"flower-pollen-density\": 0.15000000000000002<br>  }<br>}",
          "{<br>  \"number\": 22,<br>  \"values\": [<br>    874.2955408918216,<br>    338600.5594881024<br>  ],<br>  \"params\": {<br>    \"flower-pollen-density\": 0.25<br>  }<br>}",
          "{<br>  \"number\": 23,<br>  \"values\": [<br>    0.0,<br>    0.0<br>  ],<br>  \"params\": {<br>    \"flower-pollen-density\": 0.0<br>  }<br>}",
          "{<br>  \"number\": 24,<br>  \"values\": [<br>    1038.3419316136772,<br>    515582.9222155569<br>  ],<br>  \"params\": {<br>    \"flower-pollen-density\": 0.35000000000000003<br>  }<br>}",
          "{<br>  \"number\": 25,<br>  \"values\": [<br>    1005.8332333533293,<br>    359740.4171165767<br>  ],<br>  \"params\": {<br>    \"flower-pollen-density\": 0.25<br>  }<br>}",
          "{<br>  \"number\": 29,<br>  \"values\": [<br>    1151.2037592481504,<br>    1288234.2851429714<br>  ],<br>  \"params\": {<br>    \"flower-pollen-density\": 0.8500000000000001<br>  }<br>}",
          "{<br>  \"number\": 30,<br>  \"values\": [<br>    440.05098980203957,<br>    34363.80363927215<br>  ],<br>  \"params\": {<br>    \"flower-pollen-density\": 0.05<br>  }<br>}",
          "{<br>  \"number\": 32,<br>  \"values\": [<br>    814.4135172965407,<br>    185783.76064787043<br>  ],<br>  \"params\": {<br>    \"flower-pollen-density\": 0.15000000000000002<br>  }<br>}",
          "{<br>  \"number\": 33,<br>  \"values\": [<br>    1102.9114177164568,<br>    643084.7284543092<br>  ],<br>  \"params\": {<br>    \"flower-pollen-density\": 0.45<br>  }<br>}",
          "{<br>  \"number\": 35,<br>  \"values\": [<br>    1046.3153369326135,<br>    603727.8284343132<br>  ],<br>  \"params\": {<br>    \"flower-pollen-density\": 0.4<br>  }<br>}"
         ],
         "type": "scatter",
         "x": [
          961.6638672265547,
          457.625674865027,
          930.5640871825635,
          1108.7886422715458,
          1124.866626674665,
          1104.5378924215156,
          776.6768646270746,
          874.2955408918216,
          0,
          1038.3419316136772,
          1005.8332333533293,
          1151.2037592481504,
          440.05098980203957,
          814.4135172965407,
          1102.9114177164568,
          1046.3153369326135
         ],
         "y": [
          349654.1927614477,
          35311.8950209958,
          339995.1569686063,
          898335.300539892,
          949669.9324135173,
          822177.3205358929,
          184164.14137172565,
          338600.5594881024,
          0,
          515582.9222155569,
          359740.4171165767,
          1288234.2851429714,
          34363.80363927215,
          185783.76064787043,
          643084.7284543092,
          603727.8284343132
         ]
        }
       ],
       "layout": {
        "autosize": true,
        "template": {
         "data": {
          "bar": [
           {
            "error_x": {
             "color": "#2a3f5f"
            },
            "error_y": {
             "color": "#2a3f5f"
            },
            "marker": {
             "line": {
              "color": "#E5ECF6",
              "width": 0.5
             },
             "pattern": {
              "fillmode": "overlay",
              "size": 10,
              "solidity": 0.2
             }
            },
            "type": "bar"
           }
          ],
          "barpolar": [
           {
            "marker": {
             "line": {
              "color": "#E5ECF6",
              "width": 0.5
             },
             "pattern": {
              "fillmode": "overlay",
              "size": 10,
              "solidity": 0.2
             }
            },
            "type": "barpolar"
           }
          ],
          "carpet": [
           {
            "aaxis": {
             "endlinecolor": "#2a3f5f",
             "gridcolor": "white",
             "linecolor": "white",
             "minorgridcolor": "white",
             "startlinecolor": "#2a3f5f"
            },
            "baxis": {
             "endlinecolor": "#2a3f5f",
             "gridcolor": "white",
             "linecolor": "white",
             "minorgridcolor": "white",
             "startlinecolor": "#2a3f5f"
            },
            "type": "carpet"
           }
          ],
          "choropleth": [
           {
            "colorbar": {
             "outlinewidth": 0,
             "ticks": ""
            },
            "type": "choropleth"
           }
          ],
          "contour": [
           {
            "colorbar": {
             "outlinewidth": 0,
             "ticks": ""
            },
            "colorscale": [
             [
              0,
              "#0d0887"
             ],
             [
              0.1111111111111111,
              "#46039f"
             ],
             [
              0.2222222222222222,
              "#7201a8"
             ],
             [
              0.3333333333333333,
              "#9c179e"
             ],
             [
              0.4444444444444444,
              "#bd3786"
             ],
             [
              0.5555555555555556,
              "#d8576b"
             ],
             [
              0.6666666666666666,
              "#ed7953"
             ],
             [
              0.7777777777777778,
              "#fb9f3a"
             ],
             [
              0.8888888888888888,
              "#fdca26"
             ],
             [
              1,
              "#f0f921"
             ]
            ],
            "type": "contour"
           }
          ],
          "contourcarpet": [
           {
            "colorbar": {
             "outlinewidth": 0,
             "ticks": ""
            },
            "type": "contourcarpet"
           }
          ],
          "heatmap": [
           {
            "colorbar": {
             "outlinewidth": 0,
             "ticks": ""
            },
            "colorscale": [
             [
              0,
              "#0d0887"
             ],
             [
              0.1111111111111111,
              "#46039f"
             ],
             [
              0.2222222222222222,
              "#7201a8"
             ],
             [
              0.3333333333333333,
              "#9c179e"
             ],
             [
              0.4444444444444444,
              "#bd3786"
             ],
             [
              0.5555555555555556,
              "#d8576b"
             ],
             [
              0.6666666666666666,
              "#ed7953"
             ],
             [
              0.7777777777777778,
              "#fb9f3a"
             ],
             [
              0.8888888888888888,
              "#fdca26"
             ],
             [
              1,
              "#f0f921"
             ]
            ],
            "type": "heatmap"
           }
          ],
          "heatmapgl": [
           {
            "colorbar": {
             "outlinewidth": 0,
             "ticks": ""
            },
            "colorscale": [
             [
              0,
              "#0d0887"
             ],
             [
              0.1111111111111111,
              "#46039f"
             ],
             [
              0.2222222222222222,
              "#7201a8"
             ],
             [
              0.3333333333333333,
              "#9c179e"
             ],
             [
              0.4444444444444444,
              "#bd3786"
             ],
             [
              0.5555555555555556,
              "#d8576b"
             ],
             [
              0.6666666666666666,
              "#ed7953"
             ],
             [
              0.7777777777777778,
              "#fb9f3a"
             ],
             [
              0.8888888888888888,
              "#fdca26"
             ],
             [
              1,
              "#f0f921"
             ]
            ],
            "type": "heatmapgl"
           }
          ],
          "histogram": [
           {
            "marker": {
             "pattern": {
              "fillmode": "overlay",
              "size": 10,
              "solidity": 0.2
             }
            },
            "type": "histogram"
           }
          ],
          "histogram2d": [
           {
            "colorbar": {
             "outlinewidth": 0,
             "ticks": ""
            },
            "colorscale": [
             [
              0,
              "#0d0887"
             ],
             [
              0.1111111111111111,
              "#46039f"
             ],
             [
              0.2222222222222222,
              "#7201a8"
             ],
             [
              0.3333333333333333,
              "#9c179e"
             ],
             [
              0.4444444444444444,
              "#bd3786"
             ],
             [
              0.5555555555555556,
              "#d8576b"
             ],
             [
              0.6666666666666666,
              "#ed7953"
             ],
             [
              0.7777777777777778,
              "#fb9f3a"
             ],
             [
              0.8888888888888888,
              "#fdca26"
             ],
             [
              1,
              "#f0f921"
             ]
            ],
            "type": "histogram2d"
           }
          ],
          "histogram2dcontour": [
           {
            "colorbar": {
             "outlinewidth": 0,
             "ticks": ""
            },
            "colorscale": [
             [
              0,
              "#0d0887"
             ],
             [
              0.1111111111111111,
              "#46039f"
             ],
             [
              0.2222222222222222,
              "#7201a8"
             ],
             [
              0.3333333333333333,
              "#9c179e"
             ],
             [
              0.4444444444444444,
              "#bd3786"
             ],
             [
              0.5555555555555556,
              "#d8576b"
             ],
             [
              0.6666666666666666,
              "#ed7953"
             ],
             [
              0.7777777777777778,
              "#fb9f3a"
             ],
             [
              0.8888888888888888,
              "#fdca26"
             ],
             [
              1,
              "#f0f921"
             ]
            ],
            "type": "histogram2dcontour"
           }
          ],
          "mesh3d": [
           {
            "colorbar": {
             "outlinewidth": 0,
             "ticks": ""
            },
            "type": "mesh3d"
           }
          ],
          "parcoords": [
           {
            "line": {
             "colorbar": {
              "outlinewidth": 0,
              "ticks": ""
             }
            },
            "type": "parcoords"
           }
          ],
          "pie": [
           {
            "automargin": true,
            "type": "pie"
           }
          ],
          "scatter": [
           {
            "fillpattern": {
             "fillmode": "overlay",
             "size": 10,
             "solidity": 0.2
            },
            "type": "scatter"
           }
          ],
          "scatter3d": [
           {
            "line": {
             "colorbar": {
              "outlinewidth": 0,
              "ticks": ""
             }
            },
            "marker": {
             "colorbar": {
              "outlinewidth": 0,
              "ticks": ""
             }
            },
            "type": "scatter3d"
           }
          ],
          "scattercarpet": [
           {
            "marker": {
             "colorbar": {
              "outlinewidth": 0,
              "ticks": ""
             }
            },
            "type": "scattercarpet"
           }
          ],
          "scattergeo": [
           {
            "marker": {
             "colorbar": {
              "outlinewidth": 0,
              "ticks": ""
             }
            },
            "type": "scattergeo"
           }
          ],
          "scattergl": [
           {
            "marker": {
             "colorbar": {
              "outlinewidth": 0,
              "ticks": ""
             }
            },
            "type": "scattergl"
           }
          ],
          "scattermapbox": [
           {
            "marker": {
             "colorbar": {
              "outlinewidth": 0,
              "ticks": ""
             }
            },
            "type": "scattermapbox"
           }
          ],
          "scatterpolar": [
           {
            "marker": {
             "colorbar": {
              "outlinewidth": 0,
              "ticks": ""
             }
            },
            "type": "scatterpolar"
           }
          ],
          "scatterpolargl": [
           {
            "marker": {
             "colorbar": {
              "outlinewidth": 0,
              "ticks": ""
             }
            },
            "type": "scatterpolargl"
           }
          ],
          "scatterternary": [
           {
            "marker": {
             "colorbar": {
              "outlinewidth": 0,
              "ticks": ""
             }
            },
            "type": "scatterternary"
           }
          ],
          "surface": [
           {
            "colorbar": {
             "outlinewidth": 0,
             "ticks": ""
            },
            "colorscale": [
             [
              0,
              "#0d0887"
             ],
             [
              0.1111111111111111,
              "#46039f"
             ],
             [
              0.2222222222222222,
              "#7201a8"
             ],
             [
              0.3333333333333333,
              "#9c179e"
             ],
             [
              0.4444444444444444,
              "#bd3786"
             ],
             [
              0.5555555555555556,
              "#d8576b"
             ],
             [
              0.6666666666666666,
              "#ed7953"
             ],
             [
              0.7777777777777778,
              "#fb9f3a"
             ],
             [
              0.8888888888888888,
              "#fdca26"
             ],
             [
              1,
              "#f0f921"
             ]
            ],
            "type": "surface"
           }
          ],
          "table": [
           {
            "cells": {
             "fill": {
              "color": "#EBF0F8"
             },
             "line": {
              "color": "white"
             }
            },
            "header": {
             "fill": {
              "color": "#C8D4E3"
             },
             "line": {
              "color": "white"
             }
            },
            "type": "table"
           }
          ]
         },
         "layout": {
          "annotationdefaults": {
           "arrowcolor": "#2a3f5f",
           "arrowhead": 0,
           "arrowwidth": 1
          },
          "autotypenumbers": "strict",
          "coloraxis": {
           "colorbar": {
            "outlinewidth": 0,
            "ticks": ""
           }
          },
          "colorscale": {
           "diverging": [
            [
             0,
             "#8e0152"
            ],
            [
             0.1,
             "#c51b7d"
            ],
            [
             0.2,
             "#de77ae"
            ],
            [
             0.3,
             "#f1b6da"
            ],
            [
             0.4,
             "#fde0ef"
            ],
            [
             0.5,
             "#f7f7f7"
            ],
            [
             0.6,
             "#e6f5d0"
            ],
            [
             0.7,
             "#b8e186"
            ],
            [
             0.8,
             "#7fbc41"
            ],
            [
             0.9,
             "#4d9221"
            ],
            [
             1,
             "#276419"
            ]
           ],
           "sequential": [
            [
             0,
             "#0d0887"
            ],
            [
             0.1111111111111111,
             "#46039f"
            ],
            [
             0.2222222222222222,
             "#7201a8"
            ],
            [
             0.3333333333333333,
             "#9c179e"
            ],
            [
             0.4444444444444444,
             "#bd3786"
            ],
            [
             0.5555555555555556,
             "#d8576b"
            ],
            [
             0.6666666666666666,
             "#ed7953"
            ],
            [
             0.7777777777777778,
             "#fb9f3a"
            ],
            [
             0.8888888888888888,
             "#fdca26"
            ],
            [
             1,
             "#f0f921"
            ]
           ],
           "sequentialminus": [
            [
             0,
             "#0d0887"
            ],
            [
             0.1111111111111111,
             "#46039f"
            ],
            [
             0.2222222222222222,
             "#7201a8"
            ],
            [
             0.3333333333333333,
             "#9c179e"
            ],
            [
             0.4444444444444444,
             "#bd3786"
            ],
            [
             0.5555555555555556,
             "#d8576b"
            ],
            [
             0.6666666666666666,
             "#ed7953"
            ],
            [
             0.7777777777777778,
             "#fb9f3a"
            ],
            [
             0.8888888888888888,
             "#fdca26"
            ],
            [
             1,
             "#f0f921"
            ]
           ]
          },
          "colorway": [
           "#636efa",
           "#EF553B",
           "#00cc96",
           "#ab63fa",
           "#FFA15A",
           "#19d3f3",
           "#FF6692",
           "#B6E880",
           "#FF97FF",
           "#FECB52"
          ],
          "font": {
           "color": "#2a3f5f"
          },
          "geo": {
           "bgcolor": "white",
           "lakecolor": "white",
           "landcolor": "#E5ECF6",
           "showlakes": true,
           "showland": true,
           "subunitcolor": "white"
          },
          "hoverlabel": {
           "align": "left"
          },
          "hovermode": "closest",
          "mapbox": {
           "style": "light"
          },
          "paper_bgcolor": "white",
          "plot_bgcolor": "#E5ECF6",
          "polar": {
           "angularaxis": {
            "gridcolor": "white",
            "linecolor": "white",
            "ticks": ""
           },
           "bgcolor": "#E5ECF6",
           "radialaxis": {
            "gridcolor": "white",
            "linecolor": "white",
            "ticks": ""
           }
          },
          "scene": {
           "xaxis": {
            "backgroundcolor": "#E5ECF6",
            "gridcolor": "white",
            "gridwidth": 2,
            "linecolor": "white",
            "showbackground": true,
            "ticks": "",
            "zerolinecolor": "white"
           },
           "yaxis": {
            "backgroundcolor": "#E5ECF6",
            "gridcolor": "white",
            "gridwidth": 2,
            "linecolor": "white",
            "showbackground": true,
            "ticks": "",
            "zerolinecolor": "white"
           },
           "zaxis": {
            "backgroundcolor": "#E5ECF6",
            "gridcolor": "white",
            "gridwidth": 2,
            "linecolor": "white",
            "showbackground": true,
            "ticks": "",
            "zerolinecolor": "white"
           }
          },
          "shapedefaults": {
           "line": {
            "color": "#2a3f5f"
           }
          },
          "ternary": {
           "aaxis": {
            "gridcolor": "white",
            "linecolor": "white",
            "ticks": ""
           },
           "baxis": {
            "gridcolor": "white",
            "linecolor": "white",
            "ticks": ""
           },
           "bgcolor": "#E5ECF6",
           "caxis": {
            "gridcolor": "white",
            "linecolor": "white",
            "ticks": ""
           }
          },
          "title": {
           "x": 0.05
          },
          "xaxis": {
           "automargin": true,
           "gridcolor": "white",
           "linecolor": "white",
           "ticks": "",
           "title": {
            "standoff": 15
           },
           "zerolinecolor": "white",
           "zerolinewidth": 2
          },
          "yaxis": {
           "automargin": true,
           "gridcolor": "white",
           "linecolor": "white",
           "ticks": "",
           "title": {
            "standoff": 15
           },
           "zerolinecolor": "white",
           "zerolinewidth": 2
          }
         }
        },
        "title": {
         "text": "Pareto-front Plot"
        },
        "xaxis": {
         "autorange": true,
         "range": [
          -70.54642437821862,
          1221.750183626369
         ],
         "title": {
          "text": "Total Hive Pollen"
         },
         "type": "linear"
        },
        "yaxis": {
         "autorange": true,
         "range": [
          -125688.35924756796,
          1648735.536012215
         ],
         "title": {
          "text": "Total Flower Pollen"
         },
         "type": "linear"
        }
       }
      },
      "image/png": "[encoded data removed]",
      "text/html": [
       "<div>                            <div id=\"3e1d9516-56f2-4b80-b1e0-e5eacda67470\" class=\"plotly-graph-div\" style=\"height:525px; width:100%;\"></div>            <script type=\"text/javascript\">                require([\"plotly\"], function(Plotly) {                    window.PLOTLYENV=window.PLOTLYENV || {};                                    if (document.getElementById(\"3e1d9516-56f2-4b80-b1e0-e5eacda67470\")) {                    Plotly.newPlot(                        \"3e1d9516-56f2-4b80-b1e0-e5eacda67470\",                        [{\"hovertemplate\":\"%{text}<extra>Trial</extra>\",\"marker\":{\"color\":[0,1,2,3,4,5,6,7,8,10,11,12,15,18,20,26,27,28,31,34,36,37,38,39,40,41,42,43,44,45,46,47,48,49],\"colorbar\":{\"title\":{\"text\":\"Trial\"}},\"colorscale\":[[0.0,\"rgb(247,251,255)\"],[0.125,\"rgb(222,235,247)\"],[0.25,\"rgb(198,219,239)\"],[0.375,\"rgb(158,202,225)\"],[0.5,\"rgb(107,174,214)\"],[0.625,\"rgb(66,146,198)\"],[0.75,\"rgb(33,113,181)\"],[0.875,\"rgb(8,81,156)\"],[1.0,\"rgb(8,48,107)\"]],\"line\":{\"color\":\"Grey\",\"width\":0.5}},\"mode\":\"markers\",\"showlegend\":false,\"text\":[\"{<br>  \\\"number\\\": 0,<br>  \\\"values\\\": [<br>    954.5822835432914,<br>    518332.1731653669<br>  ],<br>  \\\"params\\\": {<br>    \\\"flower-pollen-density\\\": 0.35000000000000003<br>  }<br>}\",\"{<br>  \\\"number\\\": 1,<br>  \\\"values\\\": [<br>    904.2089582083584,<br>    425981.0023995201<br>  ],<br>  \\\"params\\\": {<br>    \\\"flower-pollen-density\\\": 0.30000000000000004<br>  }<br>}\",\"{<br>  \\\"number\\\": 2,<br>  \\\"values\\\": [<br>    1013.5994801039792,<br>    958563.6278744251<br>  ],<br>  \\\"params\\\": {<br>    \\\"flower-pollen-density\\\": 0.65<br>  }<br>}\",\"{<br>  \\\"number\\\": 3,<br>  \\\"values\\\": [<br>    999.9432113577285,<br>    669007.9096180764<br>  ],<br>  \\\"params\\\": {<br>    \\\"flower-pollen-density\\\": 0.45<br>  }<br>}\",\"{<br>  \\\"number\\\": 4,<br>  \\\"values\\\": [<br>    1000.0469906018797,<br>    578622.2179564087<br>  ],<br>  \\\"params\\\": {<br>    \\\"flower-pollen-density\\\": 0.4<br>  }<br>}\",\"{<br>  \\\"number\\\": 5,<br>  \\\"values\\\": [<br>    1019.3847230553889,<br>    817089.1425714857<br>  ],<br>  \\\"params\\\": {<br>    \\\"flower-pollen-density\\\": 0.55<br>  }<br>}\",\"{<br>  \\\"number\\\": 6,<br>  \\\"values\\\": [<br>    992.2795440911817,<br>    593013.1287742452<br>  ],<br>  \\\"params\\\": {<br>    \\\"flower-pollen-density\\\": 0.4<br>  }<br>}\",\"{<br>  \\\"number\\\": 7,<br>  \\\"values\\\": [<br>    990.6448710257948,<br>    817518.5678864227<br>  ],<br>  \\\"params\\\": {<br>    \\\"flower-pollen-density\\\": 0.55<br>  }<br>}\",\"{<br>  \\\"number\\\": 8,<br>  \\\"values\\\": [<br>    1068.3237352529495,<br>    1158832.1453709258<br>  ],<br>  \\\"params\\\": {<br>    \\\"flower-pollen-density\\\": 0.75<br>  }<br>}\",\"{<br>  \\\"number\\\": 10,<br>  \\\"values\\\": [<br>    1003.9016196760648,<br>    1523047.176764647<br>  ],<br>  \\\"params\\\": {<br>    \\\"flower-pollen-density\\\": 1.0<br>  }<br>}\",\"{<br>  \\\"number\\\": 11,<br>  \\\"values\\\": [<br>    997.4831033793241,<br>    517828.5148970206<br>  ],<br>  \\\"params\\\": {<br>    \\\"flower-pollen-density\\\": 0.35000000000000003<br>  }<br>}\",\"{<br>  \\\"number\\\": 12,<br>  \\\"values\\\": [<br>    1024.3691261747651,<br>    1191878.1149770047<br>  ],<br>  \\\"params\\\": {<br>    \\\"flower-pollen-density\\\": 0.8<br>  }<br>}\",\"{<br>  \\\"number\\\": 15,<br>  \\\"values\\\": [<br>    1071.486102779444,<br>    1135450.5192961409<br>  ],<br>  \\\"params\\\": {<br>    \\\"flower-pollen-density\\\": 0.75<br>  }<br>}\",\"{<br>  \\\"number\\\": 18,<br>  \\\"values\\\": [<br>    414.6942611477704,<br>    42997.27854429114<br>  ],<br>  \\\"params\\\": {<br>    \\\"flower-pollen-density\\\": 0.05<br>  }<br>}\",\"{<br>  \\\"number\\\": 20,<br>  \\\"values\\\": [<br>    984.5470905818836,<br>    1051458.475504899<br>  ],<br>  \\\"params\\\": {<br>    \\\"flower-pollen-density\\\": 0.7000000000000001<br>  }<br>}\",\"{<br>  \\\"number\\\": 26,<br>  \\\"values\\\": [<br>    968.0897820435913,<br>    837203.6926614677<br>  ],<br>  \\\"params\\\": {<br>    \\\"flower-pollen-density\\\": 0.55<br>  }<br>}\",\"{<br>  \\\"number\\\": 27,<br>  \\\"values\\\": [<br>    1005.7160567886423,<br>    585236.7148570286<br>  ],<br>  \\\"params\\\": {<br>    \\\"flower-pollen-density\\\": 0.4<br>  }<br>}\",\"{<br>  \\\"number\\\": 28,<br>  \\\"values\\\": [<br>    957.4775044991002,<br>    417702.01579684066<br>  ],<br>  \\\"params\\\": {<br>    \\\"flower-pollen-density\\\": 0.30000000000000004<br>  }<br>}\",\"{<br>  \\\"number\\\": 31,<br>  \\\"values\\\": [<br>    989.2847430513897,<br>    977629.5672865427<br>  ],<br>  \\\"params\\\": {<br>    \\\"flower-pollen-density\\\": 0.65<br>  }<br>}\",\"{<br>  \\\"number\\\": 34,<br>  \\\"values\\\": [<br>    1001.7152569486103,<br>    1434156.5830833833<br>  ],<br>  \\\"params\\\": {<br>    \\\"flower-pollen-density\\\": 0.9500000000000001<br>  }<br>}\",\"{<br>  \\\"number\\\": 36,<br>  \\\"values\\\": [<br>    1108.5416916616678,<br>    1392912.200959808<br>  ],<br>  \\\"params\\\": {<br>    \\\"flower-pollen-density\\\": 0.9<br>  }<br>}\",\"{<br>  \\\"number\\\": 37,<br>  \\\"values\\\": [<br>    1077.5582883423315,<br>    1294614.5172965408<br>  ],<br>  \\\"params\\\": {<br>    \\\"flower-pollen-density\\\": 0.8500000000000001<br>  }<br>}\",\"{<br>  \\\"number\\\": 38,<br>  \\\"values\\\": [<br>    1084.0163967206558,<br>    1363968.070385923<br>  ],<br>  \\\"params\\\": {<br>    \\\"flower-pollen-density\\\": 0.9<br>  }<br>}\",\"{<br>  \\\"number\\\": 39,<br>  \\\"values\\\": [<br>    1054.377924415117,<br>    824279.651269746<br>  ],<br>  \\\"params\\\": {<br>    \\\"flower-pollen-density\\\": 0.55<br>  }<br>}\",\"{<br>  \\\"number\\\": 40,<br>  \\\"values\\\": [<br>    1028.2231553689262,<br>    595026.4701059788<br>  ],<br>  \\\"params\\\": {<br>    \\\"flower-pollen-density\\\": 0.4<br>  }<br>}\",\"{<br>  \\\"number\\\": 41,<br>  \\\"values\\\": [<br>    1105.8652269546092,<br>    1045003.9706058789<br>  ],<br>  \\\"params\\\": {<br>    \\\"flower-pollen-density\\\": 0.7000000000000001<br>  }<br>}\",\"{<br>  \\\"number\\\": 42,<br>  \\\"values\\\": [<br>    1023.7732453509299,<br>    766919.3433313337<br>  ],<br>  \\\"params\\\": {<br>    \\\"flower-pollen-density\\\": 0.5<br>  }<br>}\",\"{<br>  \\\"number\\\": 43,<br>  \\\"values\\\": [<br>    1077.6940611877624,<br>    1392910.077384523<br>  ],<br>  \\\"params\\\": {<br>    \\\"flower-pollen-density\\\": 0.9<br>  }<br>}\",\"{<br>  \\\"number\\\": 44,<br>  \\\"values\\\": [<br>    977.1559688062388,<br>    789617.174365127<br>  ],<br>  \\\"params\\\": {<br>    \\\"flower-pollen-density\\\": 0.55<br>  }<br>}\",\"{<br>  \\\"number\\\": 45,<br>  \\\"values\\\": [<br>    769.6980603879224,<br>    196101.27834433113<br>  ],<br>  \\\"params\\\": {<br>    \\\"flower-pollen-density\\\": 0.15000000000000002<br>  }<br>}\",\"{<br>  \\\"number\\\": 46,<br>  \\\"values\\\": [<br>    1010.5198960207958,<br>    1044032.2633473305<br>  ],<br>  \\\"params\\\": {<br>    \\\"flower-pollen-density\\\": 0.7000000000000001<br>  }<br>}\",\"{<br>  \\\"number\\\": 47,<br>  \\\"values\\\": [<br>    1019.5288942211557,<br>    837316.7652469506<br>  ],<br>  \\\"params\\\": {<br>    \\\"flower-pollen-density\\\": 0.55<br>  }<br>}\",\"{<br>  \\\"number\\\": 48,<br>  \\\"values\\\": [<br>    965.25274945011,<br>    418801.97360527894<br>  ],<br>  \\\"params\\\": {<br>    \\\"flower-pollen-density\\\": 0.30000000000000004<br>  }<br>}\",\"{<br>  \\\"number\\\": 49,<br>  \\\"values\\\": [<br>    1003.3629274145171,<br>    490337.43351329735<br>  ],<br>  \\\"params\\\": {<br>    \\\"flower-pollen-density\\\": 0.35000000000000003<br>  }<br>}\"],\"x\":[954.5822835432914,904.2089582083584,1013.5994801039792,999.9432113577285,1000.0469906018797,1019.3847230553889,992.2795440911817,990.6448710257948,1068.3237352529495,1003.9016196760648,997.4831033793241,1024.3691261747651,1071.486102779444,414.6942611477704,984.5470905818836,968.0897820435913,1005.7160567886423,957.4775044991002,989.2847430513897,1001.7152569486103,1108.5416916616678,1077.5582883423315,1084.0163967206558,1054.377924415117,1028.2231553689262,1105.8652269546092,1023.7732453509299,1077.6940611877624,977.1559688062388,769.6980603879224,1010.5198960207958,1019.5288942211557,965.25274945011,1003.3629274145171],\"y\":[518332.1731653669,425981.0023995201,958563.6278744251,669007.9096180764,578622.2179564087,817089.1425714857,593013.1287742452,817518.5678864227,1158832.1453709258,1523047.176764647,517828.5148970206,1191878.1149770047,1135450.5192961409,42997.27854429114,1051458.475504899,837203.6926614677,585236.7148570286,417702.01579684066,977629.5672865427,1434156.5830833833,1392912.200959808,1294614.5172965408,1363968.070385923,824279.651269746,595026.4701059788,1045003.9706058789,766919.3433313337,1392910.077384523,789617.174365127,196101.27834433113,1044032.2633473305,837316.7652469506,418801.97360527894,490337.43351329735],\"type\":\"scatter\"},{\"hovertemplate\":\"%{text}<extra>Best Trial</extra>\",\"marker\":{\"color\":[9,13,14,16,17,19,21,22,23,24,25,29,30,32,33,35],\"colorbar\":{\"title\":{\"text\":\"Best Trial\"},\"x\":1.1,\"xpad\":40},\"colorscale\":[[0.0,\"rgb(255,245,240)\"],[0.125,\"rgb(254,224,210)\"],[0.25,\"rgb(252,187,161)\"],[0.375,\"rgb(252,146,114)\"],[0.5,\"rgb(251,106,74)\"],[0.625,\"rgb(239,59,44)\"],[0.75,\"rgb(203,24,29)\"],[0.875,\"rgb(165,15,21)\"],[1.0,\"rgb(103,0,13)\"]],\"line\":{\"color\":\"Grey\",\"width\":0.5}},\"mode\":\"markers\",\"showlegend\":false,\"text\":[\"{<br>  \\\"number\\\": 9,<br>  \\\"values\\\": [<br>    961.6638672265547,<br>    349654.1927614477<br>  ],<br>  \\\"params\\\": {<br>    \\\"flower-pollen-density\\\": 0.25<br>  }<br>}\",\"{<br>  \\\"number\\\": 13,<br>  \\\"values\\\": [<br>    457.625674865027,<br>    35311.8950209958<br>  ],<br>  \\\"params\\\": {<br>    \\\"flower-pollen-density\\\": 0.05<br>  }<br>}\",\"{<br>  \\\"number\\\": 14,<br>  \\\"values\\\": [<br>    930.5640871825635,<br>    339995.1569686063<br>  ],<br>  \\\"params\\\": {<br>    \\\"flower-pollen-density\\\": 0.25<br>  }<br>}\",\"{<br>  \\\"number\\\": 16,<br>  \\\"values\\\": [<br>    1108.7886422715458,<br>    898335.300539892<br>  ],<br>  \\\"params\\\": {<br>    \\\"flower-pollen-density\\\": 0.6000000000000001<br>  }<br>}\",\"{<br>  \\\"number\\\": 17,<br>  \\\"values\\\": [<br>    1124.866626674665,<br>    949669.9324135173<br>  ],<br>  \\\"params\\\": {<br>    \\\"flower-pollen-density\\\": 0.65<br>  }<br>}\",\"{<br>  \\\"number\\\": 19,<br>  \\\"values\\\": [<br>    1104.5378924215156,<br>    822177.3205358929<br>  ],<br>  \\\"params\\\": {<br>    \\\"flower-pollen-density\\\": 0.55<br>  }<br>}\",\"{<br>  \\\"number\\\": 21,<br>  \\\"values\\\": [<br>    776.6768646270746,<br>    184164.14137172565<br>  ],<br>  \\\"params\\\": {<br>    \\\"flower-pollen-density\\\": 0.15000000000000002<br>  }<br>}\",\"{<br>  \\\"number\\\": 22,<br>  \\\"values\\\": [<br>    874.2955408918216,<br>    338600.5594881024<br>  ],<br>  \\\"params\\\": {<br>    \\\"flower-pollen-density\\\": 0.25<br>  }<br>}\",\"{<br>  \\\"number\\\": 23,<br>  \\\"values\\\": [<br>    0.0,<br>    0.0<br>  ],<br>  \\\"params\\\": {<br>    \\\"flower-pollen-density\\\": 0.0<br>  }<br>}\",\"{<br>  \\\"number\\\": 24,<br>  \\\"values\\\": [<br>    1038.3419316136772,<br>    515582.9222155569<br>  ],<br>  \\\"params\\\": {<br>    \\\"flower-pollen-density\\\": 0.35000000000000003<br>  }<br>}\",\"{<br>  \\\"number\\\": 25,<br>  \\\"values\\\": [<br>    1005.8332333533293,<br>    359740.4171165767<br>  ],<br>  \\\"params\\\": {<br>    \\\"flower-pollen-density\\\": 0.25<br>  }<br>}\",\"{<br>  \\\"number\\\": 29,<br>  \\\"values\\\": [<br>    1151.2037592481504,<br>    1288234.2851429714<br>  ],<br>  \\\"params\\\": {<br>    \\\"flower-pollen-density\\\": 0.8500000000000001<br>  }<br>}\",\"{<br>  \\\"number\\\": 30,<br>  \\\"values\\\": [<br>    440.05098980203957,<br>    34363.80363927215<br>  ],<br>  \\\"params\\\": {<br>    \\\"flower-pollen-density\\\": 0.05<br>  }<br>}\",\"{<br>  \\\"number\\\": 32,<br>  \\\"values\\\": [<br>    814.4135172965407,<br>    185783.76064787043<br>  ],<br>  \\\"params\\\": {<br>    \\\"flower-pollen-density\\\": 0.15000000000000002<br>  }<br>}\",\"{<br>  \\\"number\\\": 33,<br>  \\\"values\\\": [<br>    1102.9114177164568,<br>    643084.7284543092<br>  ],<br>  \\\"params\\\": {<br>    \\\"flower-pollen-density\\\": 0.45<br>  }<br>}\",\"{<br>  \\\"number\\\": 35,<br>  \\\"values\\\": [<br>    1046.3153369326135,<br>    603727.8284343132<br>  ],<br>  \\\"params\\\": {<br>    \\\"flower-pollen-density\\\": 0.4<br>  }<br>}\"],\"x\":[961.6638672265547,457.625674865027,930.5640871825635,1108.7886422715458,1124.866626674665,1104.5378924215156,776.6768646270746,874.2955408918216,0.0,1038.3419316136772,1005.8332333533293,1151.2037592481504,440.05098980203957,814.4135172965407,1102.9114177164568,1046.3153369326135],\"y\":[349654.1927614477,35311.8950209958,339995.1569686063,898335.300539892,949669.9324135173,822177.3205358929,184164.14137172565,338600.5594881024,0.0,515582.9222155569,359740.4171165767,1288234.2851429714,34363.80363927215,185783.76064787043,643084.7284543092,603727.8284343132],\"type\":\"scatter\"}],                        {\"title\":{\"text\":\"Pareto-front Plot\"},\"xaxis\":{\"title\":{\"text\":\"Total Hive Pollen\"}},\"yaxis\":{\"title\":{\"text\":\"Total Flower Pollen\"}},\"template\":{\"data\":{\"histogram2dcontour\":[{\"type\":\"histogram2dcontour\",\"colorbar\":{\"outlinewidth\":0,\"ticks\":\"\"},\"colorscale\":[[0.0,\"#0d0887\"],[0.1111111111111111,\"#46039f\"],[0.2222222222222222,\"#7201a8\"],[0.3333333333333333,\"#9c179e\"],[0.4444444444444444,\"#bd3786\"],[0.5555555555555556,\"#d8576b\"],[0.6666666666666666,\"#ed7953\"],[0.7777777777777778,\"#fb9f3a\"],[0.8888888888888888,\"#fdca26\"],[1.0,\"#f0f921\"]]}],\"choropleth\":[{\"type\":\"choropleth\",\"colorbar\":{\"outlinewidth\":0,\"ticks\":\"\"}}],\"histogram2d\":[{\"type\":\"histogram2d\",\"colorbar\":{\"outlinewidth\":0,\"ticks\":\"\"},\"colorscale\":[[0.0,\"#0d0887\"],[0.1111111111111111,\"#46039f\"],[0.2222222222222222,\"#7201a8\"],[0.3333333333333333,\"#9c179e\"],[0.4444444444444444,\"#bd3786\"],[0.5555555555555556,\"#d8576b\"],[0.6666666666666666,\"#ed7953\"],[0.7777777777777778,\"#fb9f3a\"],[0.8888888888888888,\"#fdca26\"],[1.0,\"#f0f921\"]]}],\"heatmap\":[{\"type\":\"heatmap\",\"colorbar\":{\"outlinewidth\":0,\"ticks\":\"\"},\"colorscale\":[[0.0,\"#0d0887\"],[0.1111111111111111,\"#46039f\"],[0.2222222222222222,\"#7201a8\"],[0.3333333333333333,\"#9c179e\"],[0.4444444444444444,\"#bd3786\"],[0.5555555555555556,\"#d8576b\"],[0.6666666666666666,\"#ed7953\"],[0.7777777777777778,\"#fb9f3a\"],[0.8888888888888888,\"#fdca26\"],[1.0,\"#f0f921\"]]}],\"heatmapgl\":[{\"type\":\"heatmapgl\",\"colorbar\":{\"outlinewidth\":0,\"ticks\":\"\"},\"colorscale\":[[0.0,\"#0d0887\"],[0.1111111111111111,\"#46039f\"],[0.2222222222222222,\"#7201a8\"],[0.3333333333333333,\"#9c179e\"],[0.4444444444444444,\"#bd3786\"],[0.5555555555555556,\"#d8576b\"],[0.6666666666666666,\"#ed7953\"],[0.7777777777777778,\"#fb9f3a\"],[0.8888888888888888,\"#fdca26\"],[1.0,\"#f0f921\"]]}],\"contourcarpet\":[{\"type\":\"contourcarpet\",\"colorbar\":{\"outlinewidth\":0,\"ticks\":\"\"}}],\"contour\":[{\"type\":\"contour\",\"colorbar\":{\"outlinewidth\":0,\"ticks\":\"\"},\"colorscale\":[[0.0,\"#0d0887\"],[0.1111111111111111,\"#46039f\"],[0.2222222222222222,\"#7201a8\"],[0.3333333333333333,\"#9c179e\"],[0.4444444444444444,\"#bd3786\"],[0.5555555555555556,\"#d8576b\"],[0.6666666666666666,\"#ed7953\"],[0.7777777777777778,\"#fb9f3a\"],[0.8888888888888888,\"#fdca26\"],[1.0,\"#f0f921\"]]}],\"surface\":[{\"type\":\"surface\",\"colorbar\":{\"outlinewidth\":0,\"ticks\":\"\"},\"colorscale\":[[0.0,\"#0d0887\"],[0.1111111111111111,\"#46039f\"],[0.2222222222222222,\"#7201a8\"],[0.3333333333333333,\"#9c179e\"],[0.4444444444444444,\"#bd3786\"],[0.5555555555555556,\"#d8576b\"],[0.6666666666666666,\"#ed7953\"],[0.7777777777777778,\"#fb9f3a\"],[0.8888888888888888,\"#fdca26\"],[1.0,\"#f0f921\"]]}],\"mesh3d\":[{\"type\":\"mesh3d\",\"colorbar\":{\"outlinewidth\":0,\"ticks\":\"\"}}],\"scatter\":[{\"fillpattern\":{\"fillmode\":\"overlay\",\"size\":10,\"solidity\":0.2},\"type\":\"scatter\"}],\"parcoords\":[{\"type\":\"parcoords\",\"line\":{\"colorbar\":{\"outlinewidth\":0,\"ticks\":\"\"}}}],\"scatterpolargl\":[{\"type\":\"scatterpolargl\",\"marker\":{\"colorbar\":{\"outlinewidth\":0,\"ticks\":\"\"}}}],\"bar\":[{\"error_x\":{\"color\":\"#2a3f5f\"},\"error_y\":{\"color\":\"#2a3f5f\"},\"marker\":{\"line\":{\"color\":\"#E5ECF6\",\"width\":0.5},\"pattern\":{\"fillmode\":\"overlay\",\"size\":10,\"solidity\":0.2}},\"type\":\"bar\"}],\"scattergeo\":[{\"type\":\"scattergeo\",\"marker\":{\"colorbar\":{\"outlinewidth\":0,\"ticks\":\"\"}}}],\"scatterpolar\":[{\"type\":\"scatterpolar\",\"marker\":{\"colorbar\":{\"outlinewidth\":0,\"ticks\":\"\"}}}],\"histogram\":[{\"marker\":{\"pattern\":{\"fillmode\":\"overlay\",\"size\":10,\"solidity\":0.2}},\"type\":\"histogram\"}],\"scattergl\":[{\"type\":\"scattergl\",\"marker\":{\"colorbar\":{\"outlinewidth\":0,\"ticks\":\"\"}}}],\"scatter3d\":[{\"type\":\"scatter3d\",\"line\":{\"colorbar\":{\"outlinewidth\":0,\"ticks\":\"\"}},\"marker\":{\"colorbar\":{\"outlinewidth\":0,\"ticks\":\"\"}}}],\"scattermapbox\":[{\"type\":\"scattermapbox\",\"marker\":{\"colorbar\":{\"outlinewidth\":0,\"ticks\":\"\"}}}],\"scatterternary\":[{\"type\":\"scatterternary\",\"marker\":{\"colorbar\":{\"outlinewidth\":0,\"ticks\":\"\"}}}],\"scattercarpet\":[{\"type\":\"scattercarpet\",\"marker\":{\"colorbar\":{\"outlinewidth\":0,\"ticks\":\"\"}}}],\"carpet\":[{\"aaxis\":{\"endlinecolor\":\"#2a3f5f\",\"gridcolor\":\"white\",\"linecolor\":\"white\",\"minorgridcolor\":\"white\",\"startlinecolor\":\"#2a3f5f\"},\"baxis\":{\"endlinecolor\":\"#2a3f5f\",\"gridcolor\":\"white\",\"linecolor\":\"white\",\"minorgridcolor\":\"white\",\"startlinecolor\":\"#2a3f5f\"},\"type\":\"carpet\"}],\"table\":[{\"cells\":{\"fill\":{\"color\":\"#EBF0F8\"},\"line\":{\"color\":\"white\"}},\"header\":{\"fill\":{\"color\":\"#C8D4E3\"},\"line\":{\"color\":\"white\"}},\"type\":\"table\"}],\"barpolar\":[{\"marker\":{\"line\":{\"color\":\"#E5ECF6\",\"width\":0.5},\"pattern\":{\"fillmode\":\"overlay\",\"size\":10,\"solidity\":0.2}},\"type\":\"barpolar\"}],\"pie\":[{\"automargin\":true,\"type\":\"pie\"}]},\"layout\":{\"autotypenumbers\":\"strict\",\"colorway\":[\"#636efa\",\"#EF553B\",\"#00cc96\",\"#ab63fa\",\"#FFA15A\",\"#19d3f3\",\"#FF6692\",\"#B6E880\",\"#FF97FF\",\"#FECB52\"],\"font\":{\"color\":\"#2a3f5f\"},\"hovermode\":\"closest\",\"hoverlabel\":{\"align\":\"left\"},\"paper_bgcolor\":\"white\",\"plot_bgcolor\":\"#E5ECF6\",\"polar\":{\"bgcolor\":\"#E5ECF6\",\"angularaxis\":{\"gridcolor\":\"white\",\"linecolor\":\"white\",\"ticks\":\"\"},\"radialaxis\":{\"gridcolor\":\"white\",\"linecolor\":\"white\",\"ticks\":\"\"}},\"ternary\":{\"bgcolor\":\"#E5ECF6\",\"aaxis\":{\"gridcolor\":\"white\",\"linecolor\":\"white\",\"ticks\":\"\"},\"baxis\":{\"gridcolor\":\"white\",\"linecolor\":\"white\",\"ticks\":\"\"},\"caxis\":{\"gridcolor\":\"white\",\"linecolor\":\"white\",\"ticks\":\"\"}},\"coloraxis\":{\"colorbar\":{\"outlinewidth\":0,\"ticks\":\"\"}},\"colorscale\":{\"sequential\":[[0.0,\"#0d0887\"],[0.1111111111111111,\"#46039f\"],[0.2222222222222222,\"#7201a8\"],[0.3333333333333333,\"#9c179e\"],[0.4444444444444444,\"#bd3786\"],[0.5555555555555556,\"#d8576b\"],[0.6666666666666666,\"#ed7953\"],[0.7777777777777778,\"#fb9f3a\"],[0.8888888888888888,\"#fdca26\"],[1.0,\"#f0f921\"]],\"sequentialminus\":[[0.0,\"#0d0887\"],[0.1111111111111111,\"#46039f\"],[0.2222222222222222,\"#7201a8\"],[0.3333333333333333,\"#9c179e\"],[0.4444444444444444,\"#bd3786\"],[0.5555555555555556,\"#d8576b\"],[0.6666666666666666,\"#ed7953\"],[0.7777777777777778,\"#fb9f3a\"],[0.8888888888888888,\"#fdca26\"],[1.0,\"#f0f921\"]],\"diverging\":[[0,\"#8e0152\"],[0.1,\"#c51b7d\"],[0.2,\"#de77ae\"],[0.3,\"#f1b6da\"],[0.4,\"#fde0ef\"],[0.5,\"#f7f7f7\"],[0.6,\"#e6f5d0\"],[0.7,\"#b8e186\"],[0.8,\"#7fbc41\"],[0.9,\"#4d9221\"],[1,\"#276419\"]]},\"xaxis\":{\"gridcolor\":\"white\",\"linecolor\":\"white\",\"ticks\":\"\",\"title\":{\"standoff\":15},\"zerolinecolor\":\"white\",\"automargin\":true,\"zerolinewidth\":2},\"yaxis\":{\"gridcolor\":\"white\",\"linecolor\":\"white\",\"ticks\":\"\",\"title\":{\"standoff\":15},\"zerolinecolor\":\"white\",\"automargin\":true,\"zerolinewidth\":2},\"scene\":{\"xaxis\":{\"backgroundcolor\":\"#E5ECF6\",\"gridcolor\":\"white\",\"linecolor\":\"white\",\"showbackground\":true,\"ticks\":\"\",\"zerolinecolor\":\"white\",\"gridwidth\":2},\"yaxis\":{\"backgroundcolor\":\"#E5ECF6\",\"gridcolor\":\"white\",\"linecolor\":\"white\",\"showbackground\":true,\"ticks\":\"\",\"zerolinecolor\":\"white\",\"gridwidth\":2},\"zaxis\":{\"backgroundcolor\":\"#E5ECF6\",\"gridcolor\":\"white\",\"linecolor\":\"white\",\"showbackground\":true,\"ticks\":\"\",\"zerolinecolor\":\"white\",\"gridwidth\":2}},\"shapedefaults\":{\"line\":{\"color\":\"#2a3f5f\"}},\"annotationdefaults\":{\"arrowcolor\":\"#2a3f5f\",\"arrowhead\":0,\"arrowwidth\":1},\"geo\":{\"bgcolor\":\"white\",\"landcolor\":\"#E5ECF6\",\"subunitcolor\":\"white\",\"showland\":true,\"showlakes\":true,\"lakecolor\":\"white\"},\"title\":{\"x\":0.05},\"mapbox\":{\"style\":\"light\"}}}},                        {\"responsive\": true}                    ).then(function(){\n",
       "                            \n",
       "var gd = document.getElementById('3e1d9516-56f2-4b80-b1e0-e5eacda67470');\n",
       "var x = new MutationObserver(function (mutations, observer) {{\n",
       "        var display = window.getComputedStyle(gd).display;\n",
       "        if (!display || display === 'none') {{\n",
       "            console.log([gd, 'removed!']);\n",
       "            Plotly.purge(gd);\n",
       "            observer.disconnect();\n",
       "        }}\n",
       "}});\n",
       "\n",
       "// Listen for the removal of the full notebook cells\n",
       "var notebookContainer = gd.closest('#notebook-container');\n",
       "if (notebookContainer) {{\n",
       "    x.observe(notebookContainer, {childList: true});\n",
       "}}\n",
       "\n",
       "// Listen for the clearing of the current output cell\n",
       "var outputEl = gd.closest('.output');\n",
       "if (outputEl) {{\n",
       "    x.observe(outputEl, {childList: true});\n",
       "}}\n",
       "\n",
       "                        })                };                });            </script>        </div>"
      ]
     },
     "metadata": {},
     "output_type": "display_data"
    }
   ],
   "source": [
    "# fig = optuna.visualization.plot_optimization_history(study, target=lambda t: t.values[0])\n",
    "fig = optuna.visualization.plot_pareto_front(study, target_names=[\"Total Hive Pollen\", \"Total Flower Pollen\"])\n",
    "fig.show()"
   ]
  }
 ],
 "metadata": {
  "kernelspec": {
   "display_name": "Python 3 (ipykernel)",
   "language": "python",
   "name": "python3"
  },
  "language_info": {
   "codemirror_mode": {
    "name": "ipython",
    "version": 3
   },
   "file_extension": ".py",
   "mimetype": "text/x-python",
   "name": "python",
   "nbconvert_exporter": "python",
   "pygments_lexer": "ipython3",
   "version": "3.11.3"
  }
 },
 "nbformat": 4,
 "nbformat_minor": 5
}
